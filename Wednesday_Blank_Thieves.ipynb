{
 "cells": [
  {
   "attachments": {},
   "cell_type": "markdown",
   "metadata": {},
   "source": [
    "# Data Collections 2 (Dictionaries, Sets) and Importing Modules"
   ]
  },
  {
   "attachments": {},
   "cell_type": "markdown",
   "metadata": {},
   "source": [
    "## Tasks Today:\n",
    "\n",
    "1) Dictionary <br>\n",
    " &nbsp;&nbsp;&nbsp;&nbsp; a) Declaring (key, value) <br>\n",
    " &nbsp;&nbsp;&nbsp;&nbsp; b) Accessing Values <br>\n",
    " &nbsp;&nbsp;&nbsp;&nbsp; ------ Exercise #1 - Print the eye color of each person in a double nested dict <br>\n",
    " &nbsp;&nbsp;&nbsp;&nbsp; c) Adding New Pairs <br>\n",
    " &nbsp;&nbsp;&nbsp;&nbsp; d) Modifying Values <br>\n",
    " &nbsp;&nbsp;&nbsp;&nbsp; e) Removing Key, Value Pairs <br>\n",
    " &nbsp;&nbsp;&nbsp;&nbsp; f) Looping a Dictionary <br>\n",
    " &nbsp;&nbsp;&nbsp;&nbsp; g) Looping Only Keys <br>\n",
    " &nbsp;&nbsp;&nbsp;&nbsp; h) Looping Only Values <br>\n",
    " &nbsp;&nbsp;&nbsp;&nbsp; ------ Exercise #2 - Create a Function that Prints All Key Value Pairs within a print .format()  <br>\n",
    " &nbsp;&nbsp;&nbsp;&nbsp; i) sorted() <br>\n",
    " &nbsp;&nbsp;&nbsp;&nbsp; j) Lists with Dictionaries <br>\n",
    " &nbsp;&nbsp;&nbsp;&nbsp; k) Dictionaries with Lists <br>\n",
    " &nbsp;&nbsp;&nbsp;&nbsp; l) Dictionaries with Dictionaries <br>\n",
    " &nbsp;&nbsp;&nbsp;&nbsp; ------ Exercise #3 - Write a Function that asks someone's name and address, and then stores that into a dictionary, which prints all names and addresses after they're done putting information in...  <br>\n",
    "2) Dictionaries vs. Lists (over time)<br>\n",
    "3) Set <br>\n",
    " &nbsp;&nbsp;&nbsp;&nbsp; a) Declaring <br>\n",
    " &nbsp;&nbsp;&nbsp;&nbsp; b) .add() <br>\n",
    " &nbsp;&nbsp;&nbsp;&nbsp; c) .remove() <br>\n",
    " &nbsp;&nbsp;&nbsp;&nbsp; d) .union() <br>\n",
    " &nbsp;&nbsp;&nbsp;&nbsp; e) .intersection() <br>\n",
    " &nbsp;&nbsp;&nbsp;&nbsp; f) .difference() <br>\n",
    " &nbsp;&nbsp;&nbsp;&nbsp; g) Frozen Set <br>\n",
    "4) Modules <br>\n",
    " &nbsp;&nbsp;&nbsp;&nbsp; a) Importing Entire Modules <br>\n",
    " &nbsp;&nbsp;&nbsp;&nbsp; b) Importing Methods Only <br>\n",
    " &nbsp;&nbsp;&nbsp;&nbsp; c) Using the 'as' Keyword <br>\n",
    " &nbsp;&nbsp;&nbsp;&nbsp; d) Creating a Module <br>\n",
    "5) Exercises <br>\n",
    " &nbsp;&nbsp;&nbsp;&nbsp; a) Build a Shopping Cart <br>\n",
    " &nbsp;&nbsp;&nbsp;&nbsp; b) Create Your Own Module <br>"
   ]
  },
  {
   "attachments": {},
   "cell_type": "markdown",
   "metadata": {},
   "source": [
    "## Dictionary <br>\n",
    "<p>A collection of data with 'key:value' pairs. Dictionaries are ordered as of Python 3.6</p>"
   ]
  },
  {
   "attachments": {},
   "cell_type": "markdown",
   "metadata": {},
   "source": [
    "##### Declaring (key, value)"
   ]
  },
  {
   "cell_type": "code",
   "execution_count": null,
   "metadata": {},
   "outputs": [],
   "source": [
    "my_dict = {}\n",
    "\n",
    "nfl_teams = {\n",
    "    ' Baltimore': 'Ravens',\n",
    "    'Seattle':'Seahawks'\n",
    "}"
   ]
  },
  {
   "attachments": {},
   "cell_type": "markdown",
   "metadata": {},
   "source": [
    "##### Accessing Values"
   ]
  },
  {
   "cell_type": "code",
   "execution_count": null,
   "metadata": {},
   "outputs": [],
   "source": [
    "Print(nfl_teams['Seattle'])"
   ]
  },
  {
   "attachments": {},
   "cell_type": "markdown",
   "metadata": {},
   "source": [
    "## In-Class Exercise #1 - Print a formatted statement from the dictionary below <br>\n",
    "<p>The output should be '2018 Chevrolet Silverado'</p>"
   ]
  },
  {
   "cell_type": "code",
   "execution_count": 4,
   "metadata": {},
   "outputs": [
    {
     "name": "stdout",
     "output_type": "stream",
     "text": [
      "2018 Chevrolet Silverado\n",
      "2018 Chevrolet Silverado\n"
     ]
    }
   ],
   "source": [
    "# use the dict below\n",
    "truck = {\n",
    "    'year': '2018',\n",
    "    'make': 'Chevrolet',\n",
    "    'model': 'Silverado'\n",
    "}\n",
    "\n",
    "print (truck['year'], truck['make'], truck['model'])\n",
    "\n",
    "print(f\"{truck['year']} {truck['make']} {truck['model']}\")"
   ]
  },
  {
   "attachments": {},
   "cell_type": "markdown",
   "metadata": {},
   "source": [
    "##### Adding New Pairs"
   ]
  },
  {
   "cell_type": "code",
   "execution_count": 5,
   "metadata": {},
   "outputs": [
    {
     "name": "stdout",
     "output_type": "stream",
     "text": [
      "{' Baltimore': 'Ravens', 'Seattle': 'Seahawks', 'NO': 'Saints'}\n"
     ]
    }
   ],
   "source": [
    "nfl_teams = {\n",
    "    ' Baltimore': 'Ravens',\n",
    "    'Seattle':'Seahawks'\n",
    "}\n",
    "nfl_teams['NO'] = 'Saints'\n",
    "print(nfl_teams)"
   ]
  },
  {
   "attachments": {},
   "cell_type": "markdown",
   "metadata": {},
   "source": [
    "##### Modifying Values"
   ]
  },
  {
   "cell_type": "code",
   "execution_count": 6,
   "metadata": {},
   "outputs": [
    {
     "name": "stdout",
     "output_type": "stream",
     "text": [
      "{' Baltimore': 'Ravens', 'Seattle': 'Seagulls', 'NO': 'Saints'}\n"
     ]
    }
   ],
   "source": [
    "nfl_teams['Seattle'] = 'Seagulls'\n",
    "print(nfl_teams)"
   ]
  },
  {
   "attachments": {},
   "cell_type": "markdown",
   "metadata": {},
   "source": [
    "##### Removing Key, Value Pairs"
   ]
  },
  {
   "cell_type": "code",
   "execution_count": 7,
   "metadata": {},
   "outputs": [
    {
     "name": "stdout",
     "output_type": "stream",
     "text": [
      "{' Baltimore': 'Ravens', 'NO': 'Saints'}\n"
     ]
    }
   ],
   "source": [
    "del nfl_teams['Seattle']\n",
    "print(nfl_teams)"
   ]
  },
  {
   "attachments": {},
   "cell_type": "markdown",
   "metadata": {},
   "source": [
    "##### Looping a Dictionary"
   ]
  },
  {
   "cell_type": "code",
   "execution_count": 12,
   "metadata": {},
   "outputs": [
    {
     "name": "stdout",
     "output_type": "stream",
     "text": [
      " Baltimore Ravens\n",
      "NO Saints\n",
      " Baltimore Ravens\n",
      "NO Saints\n"
     ]
    }
   ],
   "source": [
    "# .items()\n",
    "for key,value in nfl_teams.items():\n",
    "    print(key, value)\n",
    "\n",
    "for k,v in nfl_teams.items():\n",
    "    print(k, v)\n"
   ]
  },
  {
   "attachments": {},
   "cell_type": "markdown",
   "metadata": {},
   "source": [
    "##### Looping Only Keys"
   ]
  },
  {
   "cell_type": "code",
   "execution_count": 10,
   "metadata": {},
   "outputs": [
    {
     "name": "stdout",
     "output_type": "stream",
     "text": [
      "(' Baltimore', 'Ravens')\n",
      "('NO', 'Saints')\n"
     ]
    }
   ],
   "source": [
    "# .keys()\n",
    "\n",
    "for key in nfl_teams.items():\n",
    "    print(key)"
   ]
  },
  {
   "attachments": {},
   "cell_type": "markdown",
   "metadata": {},
   "source": [
    "##### Looping Only Values"
   ]
  },
  {
   "cell_type": "code",
   "execution_count": 11,
   "metadata": {},
   "outputs": [
    {
     "name": "stdout",
     "output_type": "stream",
     "text": [
      "(' Baltimore', 'Ravens')\n",
      "('NO', 'Saints')\n"
     ]
    }
   ],
   "source": [
    "# .values()\n",
    "\n",
    "for key in nfl_teams.items():\n",
    "    print(key)"
   ]
  },
  {
   "attachments": {},
   "cell_type": "markdown",
   "metadata": {},
   "source": [
    "## In-Class Exercise #2 - Create a Function that Prints All Key Value Pairs within a print .format() <br>\n",
    "<p><b>Output should be:</b><br>\n",
    "Max has blue eyes<br>\n",
    "Lilly has brown eyes<br>\n",
    "Barney has blue eyes<br>\n",
    "etc.\n",
    "</p>"
   ]
  },
  {
   "cell_type": "code",
   "execution_count": 20,
   "metadata": {},
   "outputs": [
    {
     "name": "stdout",
     "output_type": "stream",
     "text": [
      "Max has blue eyes\n",
      " Max has blue eyes\n",
      "Lilly has brown eyes\n",
      " Lilly has brown eyes\n",
      "Barney has blue eyes\n",
      " Barney has blue eyes\n",
      "Larney has brown eyes\n",
      " Larney has brown eyes\n",
      "Ted has purple eyes\n",
      " Ted has purple eyes\n"
     ]
    }
   ],
   "source": [
    "# use the dict below\n",
    "\n",
    "# print (truck['year'], truck['make'], truck['model'])\n",
    "\n",
    "# print(f\"{truck['year']} {truck['make']} {truck['model']}\")\n",
    "people = {\n",
    "    'Max': 'blue',\n",
    "    'Lilly': 'brown',\n",
    "    'Barney': 'blue',\n",
    "    'Larney': 'brown',\n",
    "    'Ted': 'purple'\n",
    "}\n",
    "\n",
    "for person, color in people.items():\n",
    "    print(person, 'has', color, 'eyes')  \n",
    "    \n",
    "    print( f\" {person} has {color} eyes\")\n"
   ]
  },
  {
   "attachments": {},
   "cell_type": "markdown",
   "metadata": {},
   "source": [
    "##### sorted()"
   ]
  },
  {
   "cell_type": "code",
   "execution_count": 28,
   "metadata": {},
   "outputs": [
    {
     "data": {
      "text/plain": [
       "['Ravens', 'Saints']"
      ]
     },
     "execution_count": 28,
     "metadata": {},
     "output_type": "execute_result"
    }
   ],
   "source": [
    "# sorts variables in order\n",
    "# sorted(dict.values()) or dict.keys() or dict.items()\n",
    "\n",
    "sorted(nfl_teams.values())"
   ]
  },
  {
   "attachments": {},
   "cell_type": "markdown",
   "metadata": {},
   "source": [
    "##### List with Dictionaries"
   ]
  },
  {
   "cell_type": "code",
   "execution_count": 33,
   "metadata": {},
   "outputs": [
    {
     "name": "stdout",
     "output_type": "stream",
     "text": [
      "Lloyd\n",
      "darius\n",
      "r\n"
     ]
    }
   ],
   "source": [
    "students = ['Daniel', 'Lloyd', 'Eddie', {'random guy': 'darius', 'random girl':'sarah' }]\n",
    "print(students[1])\n",
    "print(students[3] ['random guy'])\n",
    "print(students[3] ['random girl'][2])\n",
    "\n",
    "\n"
   ]
  },
  {
   "attachments": {},
   "cell_type": "markdown",
   "metadata": {},
   "source": [
    "##### Dictionaries with Lists"
   ]
  },
  {
   "cell_type": "code",
   "execution_count": 42,
   "metadata": {},
   "outputs": [
    {
     "ename": "SyntaxError",
     "evalue": "invalid syntax. Perhaps you forgot a comma? (395967049.py, line 5)",
     "output_type": "error",
     "traceback": [
      "\u001b[0;36m  Cell \u001b[0;32mIn[42], line 5\u001b[0;36m\u001b[0m\n\u001b[0;31m    'Phoenix':['Kevin Durant', 'Devin Booker']\u001b[0m\n\u001b[0m              ^\u001b[0m\n\u001b[0;31mSyntaxError\u001b[0m\u001b[0;31m:\u001b[0m invalid syntax. Perhaps you forgot a comma?\n"
     ]
    }
   ],
   "source": [
    "# be careful when using numbers as keys in dictionaries, don't confuse them with indexes\n",
    "\n",
    "nba_teams = {\n",
    "    'Los Angelos' : ['LeBron James', 'Kobe Bryant'],\n",
    "    'Phoenix':['Kevin Durant', 'Devin Booker']\n",
    "  \n",
    "}\n",
    "  '2':['What will be printed']\n",
    "\n",
    "\n",
    "\n",
    "print(nba_teams['Los Angelos'])\n",
    "\n",
    "for name in nba_teams['Los Angelos']:\n",
    "    print(name)\n",
    "\n",
    "print(nba_teams['2'])\n",
    "\n",
    "\n"
   ]
  },
  {
   "attachments": {},
   "cell_type": "markdown",
   "metadata": {},
   "source": [
    "##### Dictionaries with Dictionaries"
   ]
  },
  {
   "cell_type": "code",
   "execution_count": 43,
   "metadata": {},
   "outputs": [
    {
     "ename": "NameError",
     "evalue": "name 'katinas_tacos' is not defined",
     "output_type": "error",
     "traceback": [
      "\u001b[0;31m---------------------------------------------------------------------------\u001b[0m",
      "\u001b[0;31mNameError\u001b[0m                                 Traceback (most recent call last)",
      "Cell \u001b[0;32mIn[43], line 11\u001b[0m\n\u001b[1;32m      1\u001b[0m \u001b[39m# to get values, must traverse through keys\u001b[39;00m\n\u001b[1;32m      3\u001b[0m katinas_taco \u001b[39m=\u001b[39m {\n\u001b[1;32m      4\u001b[0m     \u001b[39m'\u001b[39m\u001b[39mtacos\u001b[39m\u001b[39m'\u001b[39m: {\n\u001b[1;32m      5\u001b[0m         \u001b[39m'\u001b[39m\u001b[39msupreme\u001b[39m\u001b[39m'\u001b[39m: \u001b[39m5.99\u001b[39m,\n\u001b[0;32m   (...)\u001b[0m\n\u001b[1;32m      8\u001b[0m     }\n\u001b[1;32m      9\u001b[0m }\n\u001b[0;32m---> 11\u001b[0m \u001b[39mprint\u001b[39m(katinas_tacos[\u001b[39m'\u001b[39m\u001b[39mtacos\u001b[39m\u001b[39m'\u001b[39m] [\u001b[39m'\u001b[39m\u001b[39mbeefy 6-layer\u001b[39m\u001b[39m'\u001b[39m])\n",
      "\u001b[0;31mNameError\u001b[0m: name 'katinas_tacos' is not defined"
     ]
    }
   ],
   "source": [
    "# to get values, must traverse through keys\n",
    "\n",
    "katinas_taco = {\n",
    "    'tacos': {\n",
    "        'supreme': 5.99,\n",
    "        'beefy 6-layer': 8.99,\n",
    "        'katina crunch': 9.99\n",
    "    }\n",
    "}\n",
    "\n",
    "print(katinas_tacos['tacos'] ['beefy 6-layer'])"
   ]
  },
  {
   "attachments": {},
   "cell_type": "markdown",
   "metadata": {},
   "source": [
    "## Dictionaries vs. Lists (over time) Example of RUNTIME\n",
    "### When inputting values in a Dictionary vs List"
   ]
  },
  {
   "cell_type": "code",
   "execution_count": 45,
   "metadata": {},
   "outputs": [],
   "source": [
    "import time\n",
    "\n",
    "\n",
    "# generate fake dictionary\n",
    "d = {}\n",
    "\n",
    "for i in range(50000000):\n",
    "    d[i] = 'value'\n",
    "    \n",
    "\n",
    "# generate fake list\n",
    "big_list = [x for x in range(50000000)]"
   ]
  },
  {
   "cell_type": "code",
   "execution_count": 46,
   "metadata": {},
   "outputs": [
    {
     "name": "stdout",
     "output_type": "stream",
     "text": [
      "Elapsed time for lists: 1.1045160293579102\n",
      "Elapsed time for dictionary: 0.00010824203491210938\n"
     ]
    }
   ],
   "source": [
    "# tracking time for list\n",
    "start_time = time.time()\n",
    "\n",
    "if 49999999 in big_list:\n",
    "    pass\n",
    "end_time = time.time() - start_time\n",
    "\n",
    "print('Elapsed time for lists: {}'.format(end_time))\n",
    "\n",
    "\n",
    "# tracking time for dictionary\n",
    "start_time = time.time()\n",
    "\n",
    "if 49999999 in d:\n",
    "    pass\n",
    "\n",
    "end_time = time.time() - start_time\n",
    "\n",
    "print('Elapsed time for dictionary: {}'.format(end_time))"
   ]
  },
  {
   "attachments": {},
   "cell_type": "markdown",
   "metadata": {},
   "source": [
    "## Exercise #3 - Write a Function that asks someone's name and address, and then stores that into a dictionary, and continues to do so until they choose to 'quit'. Once they quit, the program should print all names and addresses. <br>\n",
    "<p>\n",
    "<b>Proper steps:</b><br>\n",
    "step 1: write a function that takes in information and stores it in a dictionary<br>\n",
    "step 2: define an empty dictionary to work with<br>\n",
    "step 3: create our loop, which asks the user for information until they quit<br>\n",
    "step 4: ask for the information, and store it into variables<br>\n",
    "step 5: check if the user types quit<br>\n",
    "step 5a: print out all information<br>\n",
    "step 5b: break out of the loop<br>\n",
    "step 6: if they didn't quit, add the information to the dictionary<br>\n",
    "step 7: invoke the function by calling it\n",
    "</p>"
   ]
  },
  {
   "cell_type": "code",
   "execution_count": 47,
   "metadata": {},
   "outputs": [],
   "source": [
    "def information():\n",
    "   blanklist = {}\n",
    "   userinput = ''\n",
    "   count = 0\n",
    "   while input != 'quit':\n",
    "      name = input('Please enter your name: ')\n",
    "      address = input('Please enter your address: ')\n",
    "      blanklist[count] =[name,address]\n",
    "      count +=1\n",
    "      userinput = input('Enter \"quit\" to stop: ')\n",
    "      for key in blanklist:\n",
    "         print( 'name: {}, and address: {}.format (blanklist[key][0], blanklist[key][1])')\n"
   ]
  },
  {
   "attachments": {},
   "cell_type": "markdown",
   "metadata": {},
   "source": [
    "## Set <br>\n",
    "<p>A Set is an unordered collection data type that is iterable (loop), mutable, and has no duplicate elements.<br>Major advantage is that it is highly optimized in checking if something is in the set, as opposed to checking if something is in a list.</p>"
   ]
  },
  {
   "attachments": {},
   "cell_type": "markdown",
   "metadata": {},
   "source": [
    "##### Declaring"
   ]
  },
  {
   "cell_type": "code",
   "execution_count": 48,
   "metadata": {},
   "outputs": [
    {
     "name": "stdout",
     "output_type": "stream",
     "text": [
      "<class 'set'>\n"
     ]
    }
   ],
   "source": [
    "# set() or {}\n",
    "my_set ={1,2,3,4,5}\n",
    "print(type(my_set))\n",
    "\n",
    "# my_set =set()\n",
    "# print(type(my_set))"
   ]
  },
  {
   "attachments": {},
   "cell_type": "markdown",
   "metadata": {},
   "source": [
    "##### .add()"
   ]
  },
  {
   "cell_type": "code",
   "execution_count": 49,
   "metadata": {},
   "outputs": [
    {
     "name": "stdout",
     "output_type": "stream",
     "text": [
      "{1, 2, 3, 4, 5, 6}\n"
     ]
    }
   ],
   "source": [
    "# set.add()\n",
    "my_set.add(6)\n",
    "print(my_set)"
   ]
  },
  {
   "attachments": {},
   "cell_type": "markdown",
   "metadata": {},
   "source": [
    "##### .remove()"
   ]
  },
  {
   "cell_type": "code",
   "execution_count": 50,
   "metadata": {},
   "outputs": [
    {
     "name": "stdout",
     "output_type": "stream",
     "text": [
      "{2, 3, 4, 5, 6}\n"
     ]
    }
   ],
   "source": [
    "# removes by value\n",
    "# set.remove()\n",
    "# nums.remove(56)\n",
    "my_set.remove(1)\n",
    "print(my_set)\n"
   ]
  },
  {
   "attachments": {},
   "cell_type": "markdown",
   "metadata": {},
   "source": [
    "##### .union() "
   ]
  },
  {
   "cell_type": "code",
   "execution_count": 52,
   "metadata": {},
   "outputs": [
    {
     "name": "stdout",
     "output_type": "stream",
     "text": [
      "{1, 2, 3, 4, 5, 6}\n",
      "{1, 2, 3, 4, 5, 6}\n"
     ]
    }
   ],
   "source": [
    "# Returns a union of two sets, can also use '|' or set.union(set)\n",
    "# joins all numbers, gets rid of duplicates\n",
    "my_set = {1,2,3,4}\n",
    "my_set2 = {3,4,5,6}\n",
    "\n",
    "unified_set = my_set.union(my_set2)\n",
    "print(unified_set)\n",
    "\n",
    "unified_set = my_set | my_set2\n",
    "print(unified_set)"
   ]
  },
  {
   "attachments": {},
   "cell_type": "markdown",
   "metadata": {},
   "source": [
    "##### .intersection()"
   ]
  },
  {
   "cell_type": "code",
   "execution_count": 53,
   "metadata": {},
   "outputs": [
    {
     "name": "stdout",
     "output_type": "stream",
     "text": [
      "{3, 4}\n"
     ]
    }
   ],
   "source": [
    "# Returns an intersection of two sets, can also use '&'\n",
    "# only takes similar elements from both sets\n",
    "\n",
    "my_set = {1,2,3,4}\n",
    "my_set2 = {3,4,5,6}\n",
    "\n",
    "intersected_set = my_set.intersection(my_set2)\n",
    "intersected_set = my_set & my_set2\n",
    "print(intersected_set)"
   ]
  },
  {
   "attachments": {},
   "cell_type": "markdown",
   "metadata": {},
   "source": [
    "##### .difference()"
   ]
  },
  {
   "cell_type": "code",
   "execution_count": 55,
   "metadata": {},
   "outputs": [
    {
     "name": "stdout",
     "output_type": "stream",
     "text": [
      "{5, 6}\n"
     ]
    }
   ],
   "source": [
    "# Returns a set containing all the elements of invoking set that are not in the second set, can also use '-'\n",
    "# only takes values from the first set that are not in the second set\n",
    "# order matters\n",
    "my_set = {1,2,3,4}\n",
    "my_set2 = {3,4,5,6}\n",
    "\n",
    "dif_set = my_set2.difference(my_set)\n",
    "print(dif_set)\n",
    "\n"
   ]
  },
  {
   "attachments": {},
   "cell_type": "markdown",
   "metadata": {},
   "source": [
    "##### .clear()"
   ]
  },
  {
   "cell_type": "code",
   "execution_count": 56,
   "metadata": {},
   "outputs": [
    {
     "name": "stdout",
     "output_type": "stream",
     "text": [
      "set()\n"
     ]
    }
   ],
   "source": [
    "# Empties the whole set\n",
    "# set.clear()\n",
    "my_set2.clear()\n",
    "print(my_set2)"
   ]
  },
  {
   "attachments": {},
   "cell_type": "markdown",
   "metadata": {},
   "source": [
    "## Modules"
   ]
  },
  {
   "attachments": {},
   "cell_type": "markdown",
   "metadata": {},
   "source": [
    "##### Importing Entire Modules"
   ]
  },
  {
   "cell_type": "code",
   "execution_count": 57,
   "metadata": {},
   "outputs": [
    {
     "name": "stdout",
     "output_type": "stream",
     "text": [
      "3.141592653589793\n",
      "9.0\n"
     ]
    }
   ],
   "source": [
    "# import\n",
    "# import math\n",
    "import math\n",
    "\n",
    "print(math.pi)\n",
    "print(math.sqrt(81))\n"
   ]
  },
  {
   "attachments": {},
   "cell_type": "markdown",
   "metadata": {},
   "source": [
    "##### Importing Methods Only"
   ]
  },
  {
   "cell_type": "code",
   "execution_count": 59,
   "metadata": {},
   "outputs": [
    {
     "name": "stdout",
     "output_type": "stream",
     "text": [
      "3.141592653589793\n"
     ]
    }
   ],
   "source": [
    "# from 'xxx' import 'xxx'\n",
    "# from math import floor\n",
    "\n",
    "from math import pi\n",
    "print(pi)"
   ]
  },
  {
   "attachments": {},
   "cell_type": "markdown",
   "metadata": {},
   "source": [
    "##### Using the 'as' Keyword"
   ]
  },
  {
   "cell_type": "code",
   "execution_count": 62,
   "metadata": {},
   "outputs": [
    {
     "name": "stdout",
     "output_type": "stream",
     "text": [
      "<built-in function sqrt>\n"
     ]
    }
   ],
   "source": [
    "# from 'xxx' import 'xxx' as 'xxx' or import 'xxx' as 'xxx'\n",
    "# from math import floor as f\n",
    "from math import pi as pie, sqrt as square_root\n",
    "print(square_root)"
   ]
  },
  {
   "cell_type": "code",
   "execution_count": 7,
   "metadata": {},
   "outputs": [
    {
     "name": "stdout",
     "output_type": "stream",
     "text": [
      "8\n"
     ]
    }
   ],
   "source": [
    "import mymodule\n",
    "\n",
    "print(mymodule.add_nums(3,5))"
   ]
  },
  {
   "attachments": {},
   "cell_type": "markdown",
   "metadata": {},
   "source": [
    "##### Creating a Module"
   ]
  },
  {
   "cell_type": "code",
   "execution_count": 1,
   "metadata": {},
   "outputs": [
    {
     "ename": "ModuleNotFoundError",
     "evalue": "No module named 'my_modules'",
     "output_type": "error",
     "traceback": [
      "\u001b[0;31m---------------------------------------------------------------------------\u001b[0m",
      "\u001b[0;31mModuleNotFoundError\u001b[0m                       Traceback (most recent call last)",
      "Cell \u001b[0;32mIn[1], line 1\u001b[0m\n\u001b[0;32m----> 1\u001b[0m \u001b[39mimport\u001b[39;00m \u001b[39mmy_modules\u001b[39;00m\u001b[39m.\u001b[39;00m\u001b[39mcandle\u001b[39;00m\n\u001b[1;32m      3\u001b[0m \u001b[39mprint\u001b[39m(candle\u001b[39m.\u001b[39madd_nums(\u001b[39m3\u001b[39m,\u001b[39m6\u001b[39m))\n",
      "\u001b[0;31mModuleNotFoundError\u001b[0m: No module named 'my_modules'"
     ]
    }
   ],
   "source": []
  },
  {
   "attachments": {},
   "cell_type": "markdown",
   "metadata": {},
   "source": [
    "# Exercises"
   ]
  },
  {
   "attachments": {},
   "cell_type": "markdown",
   "metadata": {},
   "source": [
    "### 1) Build a Shopping Cart <br>\n",
    "<p><b>You can use either lists or dictionaries. The program should have the following capabilities:</b><br><br>\n",
    "1) Takes in input <br>\n",
    "2) Stores user input into a dictionary or list <br>\n",
    "3) The User can add or delete items <br>\n",
    "4) The User can see current shopping list <br>\n",
    "5) The program Loops until user 'quits' <br>\n",
    "6) Upon quiting the program, print out all items in the user's list <br>\n",
    "</p>"
   ]
  },
  {
   "cell_type": "code",
   "execution_count": 3,
   "metadata": {},
   "outputs": [
    {
     "name": "stdout",
     "output_type": "stream",
     "text": [
      "\n",
      "Show\n",
      "Add\n",
      "Delete\n",
      "Quit? \n",
      " Not a valid response, please try again \n",
      "\n",
      "Show\n",
      "Add\n",
      "Delete\n",
      "Quit? \n",
      " Not a valid response, please try again \n",
      "\n",
      "Show\n",
      "Add\n",
      "Delete\n",
      "Quit? \n",
      " Not a valid response, please try again \n",
      "\n",
      "Show\n",
      "Add\n",
      "Delete\n",
      "Quit? \n",
      " Not a valid response, please try again \n",
      "\n",
      "Show\n",
      "Add\n",
      "Delete\n",
      "Quit? \n",
      " Not a valid response, please try again \n",
      "\n",
      "Show\n",
      "Add\n",
      "Delete\n",
      "Quit? \n",
      " Not a valid response, please try again \n",
      "\n",
      "Show\n",
      "Add\n",
      "Delete\n",
      "Quit? \n",
      " Not a valid response, please try again \n",
      "\n",
      "Show\n",
      "Add\n",
      "Delete\n",
      "Quit? \n",
      " Not a valid response, please try again \n",
      "\n",
      "Show\n",
      "Add\n",
      "Delete\n",
      "Quit? \n",
      " Not a valid response, please try again \n",
      "\n",
      "Show\n",
      "Add\n",
      "Delete\n",
      "Quit? \n"
     ]
    }
   ],
   "source": [
    "# Ask the user four bits of input: Do you want to : Show/Add/Delete or Quit?\n",
    "shopping_cart ={}\n",
    "candle_list = { 'peppermint': 11.99, 'peach': 4.99, 'lemon': 5.99, 'linen' : 7.99 }\n",
    "\n",
    "def usersee():\n",
    "    if len(cart) != 0:\n",
    "        print( 'These are the items in your shopping cart: ')\n",
    "        for name, price in shopping_cart.items():\n",
    "            print ('{}: {}' .format(name, price))\n",
    "    else:\n",
    "        print('Your cart does not have any items')\n",
    "\n",
    "def add_items():\n",
    "    print( 'Candles')\n",
    "    print('.\\n'.join(['{}-${}'.format(name, price) for name, price in candle_list.items()]))\n",
    "    name = input()\n",
    "\n",
    "    if name in candle_list:\n",
    "        shopping_cart[name] = candle_list[name]\n",
    "        print('Your item has been added')\n",
    "\n",
    "    else:\n",
    "        print('The item does not exist, please try again')\n",
    "\n",
    "\n",
    "def delete_items():\n",
    "    if len(shopping_cart) != 0:\n",
    "        print('Choose the item that you want deleted from your cart: ')\n",
    "        for name, price in shopping_cart.items():\n",
    "            print('{}:{}'.format(name,price))\n",
    "\n",
    "        name = input()\n",
    "\n",
    "        if name in shopping_cart:\n",
    "            del shopping_cart[name]\n",
    "            print('The item has been deleted')\n",
    "\n",
    "        else:\n",
    "            print( 'The item could not be found in your shopping cart.')\n",
    "    else:\n",
    "        print( 'Your shopping cart is empty')\n",
    "\n",
    "\n",
    "def quit_program():\n",
    "    if len(shopping_cart) != 0:\n",
    "        print( ' These are the items in your shopping cart: ')\n",
    "        for name, price in shopping_cart.items():\n",
    "            print('{}:{}'.format(name,price))\n",
    "\n",
    "        print( 'The total for the items is: ', sum(shopping_cart.values()))\n",
    "        print( ' Please pay the balance')\n",
    "\n",
    "    else:\n",
    "        print( 'Your cart is empty')\n",
    "\n",
    "def main():\n",
    "\n",
    "    while True:\n",
    "        print('\\nShow\\nAdd\\nDelete\\nQuit? ')\n",
    "        selection = input()\n",
    "\n",
    "        if selection.lower()== 'show':\n",
    "            usersee()\n",
    "            \n",
    "        elif selection.lower()== 'add':\n",
    "            add_items()\n",
    "\n",
    "            \n",
    "        elif selection.lower()== 'delete':\n",
    "            delete_items()\n",
    "\n",
    "            \n",
    "        elif selection.lower()== 'quit':\n",
    "            quit_program()\n",
    "\n",
    "            break\n",
    "\n",
    "        else:\n",
    "            print(' Not a valid response, please try again ')\n",
    "\n",
    "main()\n",
    "\n",
    "\n",
    "\n",
    "\n",
    "\n",
    "\n",
    "\n",
    "\n",
    "\n",
    "\n",
    "\n",
    "\n",
    "\n",
    "\n"
   ]
  },
  {
   "attachments": {},
   "cell_type": "markdown",
   "metadata": {},
   "source": [
    "### 2) Create a Module in VS Code and Import It into jupyter notebook <br>\n",
    "<p><b>Module should have the following capabilities:</b><br><br>\n",
    "1) Has a function to calculate the square footage of a house <br>\n",
    "    <b>Reminder of Formula: Length X Width == Area<br>\n",
    "        <hr>\n",
    "2) Has a function to calculate the circumference of a circle <br><br>\n",
    "<b>Program in Jupyter Notebook should take in user input and use imported functions to calculate a circle's circumference or a houses square footage</b>\n",
    "</p>"
   ]
  },
  {
   "cell_type": "code",
   "execution_count": 1,
   "metadata": {},
   "outputs": [
    {
     "ename": "ValueError",
     "evalue": "could not convert string to float: ''",
     "output_type": "error",
     "traceback": [
      "\u001b[0;31m---------------------------------------------------------------------------\u001b[0m",
      "\u001b[0;31mValueError\u001b[0m                                Traceback (most recent call last)",
      "Cell \u001b[0;32mIn[1], line 5\u001b[0m\n\u001b[1;32m      1\u001b[0m \u001b[39m# import mymodule\u001b[39;00m\n\u001b[1;32m      2\u001b[0m \n\u001b[1;32m      3\u001b[0m \u001b[39m# print(mymodule.add_nums(3,5))\u001b[39;00m\n\u001b[0;32m----> 5\u001b[0m \u001b[39mimport\u001b[39;00m \u001b[39mmymodules\u001b[39;00m\n\u001b[1;32m      7\u001b[0m \u001b[39mprint\u001b[39m(mymodules\u001b[39m.\u001b[39mhouse_sqft(\u001b[39m35\u001b[39m,\u001b[39m23\u001b[39m))\n",
      "File \u001b[0;32m~/Desktop/CodingTempleWork102023/Week2/Day3/mymodules.py:9\u001b[0m\n\u001b[1;32m      6\u001b[0m \u001b[39mdef\u001b[39;00m \u001b[39msquare_foot\u001b[39m(length, width):\n\u001b[1;32m      7\u001b[0m     \u001b[39mreturn\u001b[39;00m length \u001b[39m+\u001b[39m width\n\u001b[0;32m----> 9\u001b[0m length_of_house \u001b[39m=\u001b[39m\u001b[39mfloat\u001b[39;49m( \u001b[39minput\u001b[39;49m(\u001b[39m'\u001b[39;49m\u001b[39mEnter the length of the house in feet: \u001b[39;49m\u001b[39m'\u001b[39;49m))\n\u001b[1;32m     11\u001b[0m width_of_house \u001b[39m=\u001b[39m\u001b[39mfloat\u001b[39m( \u001b[39minput\u001b[39m(\u001b[39m'\u001b[39m\u001b[39mEnter the width of the house in feet: \u001b[39m\u001b[39m'\u001b[39m))\n\u001b[1;32m     13\u001b[0m house_sqft\u001b[39m=\u001b[39m square_foot(length_of_house, width_of_house)\n",
      "\u001b[0;31mValueError\u001b[0m: could not convert string to float: ''"
     ]
    }
   ],
   "source": [
    "\n",
    "\n",
    "\n",
    "# import mymodule\n",
    "\n",
    "# print(mymodule.add_nums(3,5))\n",
    "\n",
    "import mymodules\n",
    "\n",
    "print(mymodules.house_sqft(35,23))\n",
    "\n",
    "\n",
    "\n",
    "\n",
    "\n",
    "\n",
    "\n"
   ]
  }
 ],
 "metadata": {
  "kernelspec": {
   "display_name": "Python 3",
   "language": "python",
   "name": "python3"
  },
  "language_info": {
   "codemirror_mode": {
    "name": "ipython",
    "version": 3
   },
   "file_extension": ".py",
   "mimetype": "text/x-python",
   "name": "python",
   "nbconvert_exporter": "python",
   "pygments_lexer": "ipython3",
   "version": "3.10.11"
  },
  "vscode": {
   "interpreter": {
    "hash": "aa82987a71ca0339a52998cd22613b0c002bda8349fa32a0cb67ceec3936a2bf"
   }
  }
 },
 "nbformat": 4,
 "nbformat_minor": 2
}
